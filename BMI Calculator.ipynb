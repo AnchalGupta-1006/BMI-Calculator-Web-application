{
 "cells": [
  {
   "cell_type": "code",
   "execution_count": 2,
   "id": "ca828caa",
   "metadata": {},
   "outputs": [],
   "source": [
    "from pywebio.input import *\n",
    "from pywebio.output import *\n"
   ]
  },
  {
   "cell_type": "code",
   "execution_count": 4,
   "id": "036027e4",
   "metadata": {},
   "outputs": [],
   "source": [
    "def bmicalculator():\n",
    "    height=input(\"Please enter the height in cm\",type=FLOAT)\n",
    "    weight=input(\"Please enter the weight in Kg\",type=FLOAT)\n",
    "    \n",
    "    bmi=weight/(height/100)**2\n",
    "    \n",
    "    bmi_output=[(16, 'Severely underweight'), (18.5, 'Underweight'),\n",
    "                  (25, 'Normal'), (30, 'Overweight'),\n",
    "                  (35, 'Moderately obese'), (float('inf'), 'Severely obese')]\n",
    "    \n",
    "    for tuple1,tuple2 in bmi_output:\n",
    "        if bmi<=tuple1:\n",
    "            put_text('Your BMI is :%.1f and the person is :%s'%(bmi,tuple2))\n",
    "            break"
   ]
  },
  {
   "cell_type": "code",
   "execution_count": 5,
   "id": "dd0628dd",
   "metadata": {},
   "outputs": [],
   "source": [
    "if __name__=='__main__':\n",
    "    bmicalculator()\n"
   ]
  },
  {
   "cell_type": "code",
   "execution_count": null,
   "id": "0318a64b",
   "metadata": {},
   "outputs": [],
   "source": []
  }
 ],
 "metadata": {
  "kernelspec": {
   "display_name": "Python 3",
   "language": "python",
   "name": "python3"
  },
  "language_info": {
   "codemirror_mode": {
    "name": "ipython",
    "version": 3
   },
   "file_extension": ".py",
   "mimetype": "text/x-python",
   "name": "python",
   "nbconvert_exporter": "python",
   "pygments_lexer": "ipython3",
   "version": "3.8.8"
  }
 },
 "nbformat": 4,
 "nbformat_minor": 5
}
